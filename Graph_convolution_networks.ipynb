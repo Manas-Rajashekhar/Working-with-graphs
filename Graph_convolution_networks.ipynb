{
  "nbformat": 4,
  "nbformat_minor": 0,
  "metadata": {
    "colab": {
      "name": "Graph convolution networks.ipynb",
      "provenance": []
    },
    "kernelspec": {
      "name": "python3",
      "display_name": "Python 3"
    }
  },
  "cells": [
    {
      "cell_type": "code",
      "metadata": {
        "id": "KBPmYXM8r2P_"
      },
      "source": [
        "!pip install dgl\n",
        "!pip install node2vec\n",
        "\n",
        "import time\n",
        "\n",
        "import numpy as np                         # load all neccesaary libraries \n",
        "import matplotlib.pyplot as plt\n",
        "import pandas as pd\n",
        "                                                \n",
        "import scipy as sp\n",
        "import scipy.sparse.linalg as linalg\n",
        "import scipy.cluster.hierarchy as hr\n",
        "from scipy.spatial.distance import pdist, squareform\n",
        "from sklearn.model_selection import train_test_split\n",
        "\n",
        "import os\n",
        "import sklearn.metrics as metrics\n",
        "import sklearn.utils as utils\n",
        "import sklearn.linear_model as linear_model\n",
        "import sklearn.svm as svm\n",
        "import sklearn.cluster as cluster\n",
        "from sklearn.ensemble import AdaBoostClassifier\n",
        "from sklearn.neighbors import KNeighborsClassifier\n",
        "from sklearn.decomposition import TruncatedSVD\n",
        "from sklearn.preprocessing import StandardScaler\n",
        "\n",
        "\n",
        "import networkx as nx\n",
        "from node2vec import Node2Vec\n",
        "import torch\n",
        "import seaborn as sns\n",
        "from dgl.nn.pytorch import GraphConv\n",
        "import torch.nn as nn\n",
        "import torch.nn.functional as F"
      ],
      "execution_count": null,
      "outputs": []
    },
    {
      "cell_type": "code",
      "metadata": {
        "id": "t0BN-Turr2P_"
      },
      "source": [
        "os.chdir(\"/content/sample_data\")\n",
        "G = nx.read_adjlist('adjedges.txt',  nodetype = int)\n",
        "        ## create graph from edge list\n",
        "#G.nodes()\n",
        "#G.edges()              # no of nodes\n",
        "G.number_of_nodes()"
      ],
      "execution_count": null,
      "outputs": []
    },
    {
      "cell_type": "code",
      "metadata": {
        "id": "6uEcXiHzEZFe"
      },
      "source": [
        "### install necessary libraries from pytorch geometric\r\n",
        "!pip install torch-geometric\r\n",
        "!pip install torch-scatter -f https://pytorch-geometric.com/whl/torch-1.4.0+cu102.html\r\n",
        "!pip install torch-sparse -f https://pytorch-geometric.com/whl/torch-1.4.0+cu102.html\r\n",
        "!pip install torch-cluster -f https://pytorch-geometric.com/whl/torch-1.4.0+cu102.html\r\n",
        "!pip install torch-spline-conv -f https://pytorch-geometric.com/whl/torch-1.4.0+cu102.html\r\n",
        "import torch \r\n",
        "from  torch_geometric.data import Data"
      ],
      "execution_count": null,
      "outputs": []
    },
    {
      "cell_type": "markdown",
      "metadata": {
        "id": "FlCxzFe4r2QA"
      },
      "source": [
        "#### Loading training data\n",
        "Now we load training data where a list of nodes along with their class label is given"
      ]
    },
    {
      "cell_type": "code",
      "metadata": {
        "id": "dsudUARAJmCv"
      },
      "source": [
        "# loading datasets\r\n",
        "data_train = pd.read_csv('labels.txt', sep=\" \", header=None)     # create training data with column names\r\n",
        "data_train.columns=[\"node_id\",\"class\"]\r\n",
        "#df_test \r\n",
        "#df_train.head()\r\n",
        "paper_info_df = open(\"docs.txt\")\r\n",
        "paper_info_df = paper_info_df.readlines()\r\n"
      ],
      "execution_count": null,
      "outputs": []
    },
    {
      "cell_type": "markdown",
      "metadata": {
        "id": "9KwqUEXwdawD"
      },
      "source": [
        "#### Read each line from text file and make a pandas dataframe of node_id and corresponding text"
      ]
    },
    {
      "cell_type": "code",
      "metadata": {
        "id": "e3fdhQy3awoq"
      },
      "source": [
        "gr_bag_words_df = {}     # initialize dictionary\r\n",
        "a = []                                \r\n",
        "node_ids = []                       \r\n",
        "text = []\r\n",
        "for i in paper_info_df:\r\n",
        "    a = i.split()                      #  for every line split ad sperate node_id from text\r\n",
        "    temp = a.pop(0)\r\n",
        "    node_ids.append(int(temp))\r\n",
        "    text.append(\" \".join(a))         # append to respective list\r\n",
        "gr_bag_words_df['node_id'] = node_ids\r\n",
        "gr_bag_words_df['text'] = text                  \r\n",
        "\r\n",
        "text_df = pd.DataFrame.from_dict(gr_bag_words_df)   # create a pandas dataframe from dictionary with text from above"
      ],
      "execution_count": null,
      "outputs": []
    },
    {
      "cell_type": "code",
      "metadata": {
        "colab": {
          "base_uri": "https://localhost:8080/",
          "height": 195
        },
        "id": "yzI-keEncMnT",
        "outputId": "35e7c2b4-1861-473a-87f1-1aec692045be"
      },
      "source": [
        "text_df.head()"
      ],
      "execution_count": null,
      "outputs": [
        {
          "output_type": "execute_result",
          "data": {
            "text/html": [
              "<div>\n",
              "<style scoped>\n",
              "    .dataframe tbody tr th:only-of-type {\n",
              "        vertical-align: middle;\n",
              "    }\n",
              "\n",
              "    .dataframe tbody tr th {\n",
              "        vertical-align: top;\n",
              "    }\n",
              "\n",
              "    .dataframe thead th {\n",
              "        text-align: right;\n",
              "    }\n",
              "</style>\n",
              "<table border=\"1\" class=\"dataframe\">\n",
              "  <thead>\n",
              "    <tr style=\"text-align: right;\">\n",
              "      <th></th>\n",
              "      <th>node_id</th>\n",
              "      <th>text</th>\n",
              "    </tr>\n",
              "  </thead>\n",
              "  <tbody>\n",
              "    <tr>\n",
              "      <th>0</th>\n",
              "      <td>12828558</td>\n",
              "      <td>Assessing Local Institutional Capacity, Data A...</td>\n",
              "    </tr>\n",
              "    <tr>\n",
              "      <th>1</th>\n",
              "      <td>66779408</td>\n",
              "      <td>THE PROSPECTS FOR INTERNET TELEPHONY IN EUROPE...</td>\n",
              "    </tr>\n",
              "    <tr>\n",
              "      <th>2</th>\n",
              "      <td>38902949</td>\n",
              "      <td>Economic Shocks, Safety Nets, and Fiscal Const...</td>\n",
              "    </tr>\n",
              "    <tr>\n",
              "      <th>3</th>\n",
              "      <td>33450563</td>\n",
              "      <td>Reform, Growth, and Poverty in Vietnam</td>\n",
              "    </tr>\n",
              "    <tr>\n",
              "      <th>4</th>\n",
              "      <td>57470294</td>\n",
              "      <td>Households and Economic Growth in Latin Americ...</td>\n",
              "    </tr>\n",
              "  </tbody>\n",
              "</table>\n",
              "</div>"
            ],
            "text/plain": [
              "    node_id                                               text\n",
              "0  12828558  Assessing Local Institutional Capacity, Data A...\n",
              "1  66779408  THE PROSPECTS FOR INTERNET TELEPHONY IN EUROPE...\n",
              "2  38902949  Economic Shocks, Safety Nets, and Fiscal Const...\n",
              "3  33450563             Reform, Growth, and Poverty in Vietnam\n",
              "4  57470294  Households and Economic Growth in Latin Americ..."
            ]
          },
          "metadata": {
            "tags": []
          },
          "execution_count": 19
        }
      ]
    },
    {
      "cell_type": "markdown",
      "metadata": {
        "id": "EjnoXiHfeguq"
      },
      "source": [
        "## SPACY library for text processing "
      ]
    },
    {
      "cell_type": "code",
      "metadata": {
        "id": "STn8NVD7eSvM"
      },
      "source": [
        "!pip install -U pip setuptools wheel\r\n",
        "!pip install -U spacy\r\n",
        "!pip install -m spacy download en_core_web_sm\r\n"
      ],
      "execution_count": null,
      "outputs": []
    },
    {
      "cell_type": "code",
      "metadata": {
        "colab": {
          "base_uri": "https://localhost:8080/"
        },
        "id": "aZyVSUtpfyL6",
        "outputId": "3e95b883-84d3-4d5c-9768-45141ca5d0d9"
      },
      "source": [
        "import spacy\r\n",
        "from spacy.lang.en.stop_words import STOP_WORDS\r\n",
        "\r\n",
        "nlp = spacy.load(\"en_core_web_sm\")\r\n"
      ],
      "execution_count": null,
      "outputs": [
        {
          "output_type": "stream",
          "text": [
            "/usr/local/lib/python3.6/dist-packages/spacy/util.py:275: UserWarning: [W031] Model 'en_core_web_sm' (2.2.5) requires spaCy v2.2 and is incompatible with the current spaCy version (2.3.5). This may lead to unexpected results or runtime errors. To resolve this, download a newer compatible model or retrain your custom model with the current spaCy version. For more details and available updates, run: python -m spacy validate\n",
            "  warnings.warn(warn_msg)\n"
          ],
          "name": "stderr"
        }
      ]
    },
    {
      "cell_type": "code",
      "metadata": {
        "id": "MA1ihAnQem3C"
      },
      "source": [
        "## define a function to preprocess text and tokenize \r\n",
        "def preprocess_text(each_row):\r\n",
        "    BOG = []\r\n",
        "    each_row = each_row.lower()\r\n",
        "\r\n",
        "    tokenized_words = nlp(each_row)\r\n",
        "    for i in tokenized_words:\r\n",
        "        if i.is_punct or i.is_digit or  i.text in STOP_WORDS or i.pos_ != \"NOUN\" or len(i.text) <= 1:   # remove punctuations and if necessary include only nouns\r\n",
        "            continue\r\n",
        "        else:\r\n",
        "            BOG.append(i.lemma_)\r\n",
        "\r\n",
        "\r\n",
        "    return BOG"
      ],
      "execution_count": null,
      "outputs": []
    },
    {
      "cell_type": "code",
      "metadata": {
        "colab": {
          "base_uri": "https://localhost:8080/",
          "height": 195
        },
        "id": "dG4E2epAgUJm",
        "outputId": "9de28dd8-a2d4-4258-eabd-550f67c11cee"
      },
      "source": [
        "text_df['text_pre'] = text_df['text'].apply(lambda x: preprocess_text(x))\r\n",
        "text_df.head()\r\n"
      ],
      "execution_count": null,
      "outputs": [
        {
          "output_type": "execute_result",
          "data": {
            "text/html": [
              "<div>\n",
              "<style scoped>\n",
              "    .dataframe tbody tr th:only-of-type {\n",
              "        vertical-align: middle;\n",
              "    }\n",
              "\n",
              "    .dataframe tbody tr th {\n",
              "        vertical-align: top;\n",
              "    }\n",
              "\n",
              "    .dataframe thead th {\n",
              "        text-align: right;\n",
              "    }\n",
              "</style>\n",
              "<table border=\"1\" class=\"dataframe\">\n",
              "  <thead>\n",
              "    <tr style=\"text-align: right;\">\n",
              "      <th></th>\n",
              "      <th>node_id</th>\n",
              "      <th>text</th>\n",
              "      <th>text_pre</th>\n",
              "    </tr>\n",
              "  </thead>\n",
              "  <tbody>\n",
              "    <tr>\n",
              "      <th>0</th>\n",
              "      <td>12828558</td>\n",
              "      <td>Assessing Local Institutional Capacity, Data A...</td>\n",
              "      <td>[capacity, datum, availability, outcome]</td>\n",
              "    </tr>\n",
              "    <tr>\n",
              "      <th>1</th>\n",
              "      <td>66779408</td>\n",
              "      <td>THE PROSPECTS FOR INTERNET TELEPHONY IN EUROPE...</td>\n",
              "      <td>[prospect, internet, telephony, modeling, poli...</td>\n",
              "    </tr>\n",
              "    <tr>\n",
              "      <th>2</th>\n",
              "      <td>38902949</td>\n",
              "      <td>Economic Shocks, Safety Nets, and Fiscal Const...</td>\n",
              "      <td>[shock, safety, net, constraint, protection]</td>\n",
              "    </tr>\n",
              "    <tr>\n",
              "      <th>3</th>\n",
              "      <td>33450563</td>\n",
              "      <td>Reform, Growth, and Poverty in Vietnam</td>\n",
              "      <td>[reform, growth, poverty]</td>\n",
              "    </tr>\n",
              "    <tr>\n",
              "      <th>4</th>\n",
              "      <td>57470294</td>\n",
              "      <td>Households and Economic Growth in Latin Americ...</td>\n",
              "      <td>[household, growth]</td>\n",
              "    </tr>\n",
              "  </tbody>\n",
              "</table>\n",
              "</div>"
            ],
            "text/plain": [
              "    node_id  ...                                           text_pre\n",
              "0  12828558  ...           [capacity, datum, availability, outcome]\n",
              "1  66779408  ...  [prospect, internet, telephony, modeling, poli...\n",
              "2  38902949  ...       [shock, safety, net, constraint, protection]\n",
              "3  33450563  ...                          [reform, growth, poverty]\n",
              "4  57470294  ...                                [household, growth]\n",
              "\n",
              "[5 rows x 3 columns]"
            ]
          },
          "metadata": {
            "tags": []
          },
          "execution_count": 23
        }
      ]
    },
    {
      "cell_type": "markdown",
      "metadata": {
        "id": "eo6srjHlEgsO"
      },
      "source": [
        "### After further investigation , it was found that certain papers or nodes did not have valid information or data was missing "
      ]
    },
    {
      "cell_type": "code",
      "metadata": {
        "colab": {
          "base_uri": "https://localhost:8080/"
        },
        "id": "fk8Dkvjx_IRp",
        "outputId": "a8406e8c-8bc2-4804-f4ee-31aa9d3fed3d"
      },
      "source": [
        "corpus = [\" \".join(x) for x in text_df['text_pre'] if len(x) >= 1]\r\n",
        "#corpus\r\n",
        "print(len(corpus))\r\n",
        "print(len(text_df))\r\n",
        "print(\"The number of nodes missing information:\",(len(text_df)-len(corpus)))"
      ],
      "execution_count": null,
      "outputs": [
        {
          "output_type": "stream",
          "text": [
            "17449\n",
            "18720\n",
            "The number of nodes missing information: 1271\n"
          ],
          "name": "stdout"
        }
      ]
    },
    {
      "cell_type": "code",
      "metadata": {
        "colab": {
          "base_uri": "https://localhost:8080/"
        },
        "id": "blVlxIy4-6SC",
        "outputId": "a219e1ee-b08d-4545-9146-1bfc851e8e73"
      },
      "source": [
        "text_df['new_text'] = [\" \".join(x) for x in text_df['text_pre']]\r\n",
        "new_textdf = text_df[text_df['new_text'] != \"\"]\r\n",
        "len(new_textdf)                                      # subset dataframe by getting rid  of paper without information"
      ],
      "execution_count": null,
      "outputs": [
        {
          "output_type": "execute_result",
          "data": {
            "text/plain": [
              "17449"
            ]
          },
          "metadata": {
            "tags": []
          },
          "execution_count": 28
        }
      ]
    },
    {
      "cell_type": "markdown",
      "metadata": {
        "id": "RSY0idxxE1dG"
      },
      "source": [
        "### Left outer join to include nodes with features and respective labels from training dataframe"
      ]
    },
    {
      "cell_type": "code",
      "metadata": {
        "colab": {
          "base_uri": "https://localhost:8080/",
          "height": 195
        },
        "id": "QtMXdcWxJukf",
        "outputId": "37229b4d-31fb-455a-8c9e-433671c53699"
      },
      "source": [
        "final_train_df = new_textdf.merge(data_train, left_on='node_id', right_on='node_id')\r\n",
        "final_train_df.head()"
      ],
      "execution_count": null,
      "outputs": [
        {
          "output_type": "execute_result",
          "data": {
            "text/html": [
              "<div>\n",
              "<style scoped>\n",
              "    .dataframe tbody tr th:only-of-type {\n",
              "        vertical-align: middle;\n",
              "    }\n",
              "\n",
              "    .dataframe tbody tr th {\n",
              "        vertical-align: top;\n",
              "    }\n",
              "\n",
              "    .dataframe thead th {\n",
              "        text-align: right;\n",
              "    }\n",
              "</style>\n",
              "<table border=\"1\" class=\"dataframe\">\n",
              "  <thead>\n",
              "    <tr style=\"text-align: right;\">\n",
              "      <th></th>\n",
              "      <th>node_id</th>\n",
              "      <th>text</th>\n",
              "      <th>text_pre</th>\n",
              "      <th>new_text</th>\n",
              "      <th>class</th>\n",
              "    </tr>\n",
              "  </thead>\n",
              "  <tbody>\n",
              "    <tr>\n",
              "      <th>0</th>\n",
              "      <td>12828558</td>\n",
              "      <td>Assessing Local Institutional Capacity, Data A...</td>\n",
              "      <td>[capacity, datum, availability, outcome]</td>\n",
              "      <td>capacity datum availability outcome</td>\n",
              "      <td>0</td>\n",
              "    </tr>\n",
              "    <tr>\n",
              "      <th>1</th>\n",
              "      <td>66779408</td>\n",
              "      <td>THE PROSPECTS FOR INTERNET TELEPHONY IN EUROPE...</td>\n",
              "      <td>[prospect, internet, telephony, modeling, poli...</td>\n",
              "      <td>prospect internet telephony modeling policy an...</td>\n",
              "      <td>0</td>\n",
              "    </tr>\n",
              "    <tr>\n",
              "      <th>2</th>\n",
              "      <td>38902949</td>\n",
              "      <td>Economic Shocks, Safety Nets, and Fiscal Const...</td>\n",
              "      <td>[shock, safety, net, constraint, protection]</td>\n",
              "      <td>shock safety net constraint protection</td>\n",
              "      <td>0</td>\n",
              "    </tr>\n",
              "    <tr>\n",
              "      <th>3</th>\n",
              "      <td>33450563</td>\n",
              "      <td>Reform, Growth, and Poverty in Vietnam</td>\n",
              "      <td>[reform, growth, poverty]</td>\n",
              "      <td>reform growth poverty</td>\n",
              "      <td>0</td>\n",
              "    </tr>\n",
              "    <tr>\n",
              "      <th>4</th>\n",
              "      <td>57470294</td>\n",
              "      <td>Households and Economic Growth in Latin Americ...</td>\n",
              "      <td>[household, growth]</td>\n",
              "      <td>household growth</td>\n",
              "      <td>0</td>\n",
              "    </tr>\n",
              "  </tbody>\n",
              "</table>\n",
              "</div>"
            ],
            "text/plain": [
              "    node_id  ... class\n",
              "0  12828558  ...     0\n",
              "1  66779408  ...     0\n",
              "2  38902949  ...     0\n",
              "3  33450563  ...     0\n",
              "4  57470294  ...     0\n",
              "\n",
              "[5 rows x 5 columns]"
            ]
          },
          "metadata": {
            "tags": []
          },
          "execution_count": 29
        }
      ]
    },
    {
      "cell_type": "markdown",
      "metadata": {
        "id": "CYjJPu0AE17b"
      },
      "source": [
        "#### Join the training data with the adjcacency list to determine equal number of edge list elements and no of node features"
      ]
    },
    {
      "cell_type": "code",
      "metadata": {
        "id": "fwB6rRRhVFA5",
        "colab": {
          "base_uri": "https://localhost:8080/",
          "height": 195
        },
        "outputId": "9898ec93-c220-4025-e1ef-5e85420b2c4d"
      },
      "source": [
        "grp_edges = list(G.edges)\r\n",
        "#grp_edges = [list(x) for x in grp_edges]           \r\n",
        "    # create training data with column names\r\n",
        "# get tuples of edges information about source and destination nodes\r\n",
        "src_nodes = []\r\n",
        "dest_nodes = []       # make a list of two lists (i.e src nodes and dest nodes list)\r\n",
        "                                 \r\n",
        "for i in grp_edges:\r\n",
        "    src_nodes.append(i[0])\r\n",
        "    dest_nodes.append(i[1])\r\n",
        "   \r\n",
        "\r\n",
        "\r\n",
        "column_names = [\"source_node\", \"dest_node\"]\r\n",
        "\r\n",
        "df_adj_list = pd.DataFrame(columns = column_names)\r\n",
        "df_adj_list['source_node'] = src_nodes\r\n",
        "df_adj_list['dest_node'] = dest_nodes\r\n",
        "\r\n",
        "df_adj_list.head()\r\n"
      ],
      "execution_count": null,
      "outputs": [
        {
          "output_type": "execute_result",
          "data": {
            "text/html": [
              "<div>\n",
              "<style scoped>\n",
              "    .dataframe tbody tr th:only-of-type {\n",
              "        vertical-align: middle;\n",
              "    }\n",
              "\n",
              "    .dataframe tbody tr th {\n",
              "        vertical-align: top;\n",
              "    }\n",
              "\n",
              "    .dataframe thead th {\n",
              "        text-align: right;\n",
              "    }\n",
              "</style>\n",
              "<table border=\"1\" class=\"dataframe\">\n",
              "  <thead>\n",
              "    <tr style=\"text-align: right;\">\n",
              "      <th></th>\n",
              "      <th>source_node</th>\n",
              "      <th>dest_node</th>\n",
              "    </tr>\n",
              "  </thead>\n",
              "  <tbody>\n",
              "    <tr>\n",
              "      <th>0</th>\n",
              "      <td>38902949</td>\n",
              "      <td>38998399</td>\n",
              "    </tr>\n",
              "    <tr>\n",
              "      <th>1</th>\n",
              "      <td>38998399</td>\n",
              "      <td>23801630</td>\n",
              "    </tr>\n",
              "    <tr>\n",
              "      <th>2</th>\n",
              "      <td>38998399</td>\n",
              "      <td>63525655</td>\n",
              "    </tr>\n",
              "    <tr>\n",
              "      <th>3</th>\n",
              "      <td>38998399</td>\n",
              "      <td>13157756</td>\n",
              "    </tr>\n",
              "    <tr>\n",
              "      <th>4</th>\n",
              "      <td>38998399</td>\n",
              "      <td>14987799</td>\n",
              "    </tr>\n",
              "  </tbody>\n",
              "</table>\n",
              "</div>"
            ],
            "text/plain": [
              "   source_node  dest_node\n",
              "0     38902949   38998399\n",
              "1     38998399   23801630\n",
              "2     38998399   63525655\n",
              "3     38998399   13157756\n",
              "4     38998399   14987799"
            ]
          },
          "metadata": {
            "tags": []
          },
          "execution_count": 42
        }
      ]
    },
    {
      "cell_type": "code",
      "metadata": {
        "colab": {
          "base_uri": "https://localhost:8080/",
          "height": 195
        },
        "id": "7sPEDZ7FIro5",
        "outputId": "9b4b3951-030f-4adc-9be8-f41983f42801"
      },
      "source": [
        "f_train_df = final_train_df.merge(df_adj_list, left_on='node_id', right_on='source_node')\r\n",
        "f_train_df.head()\r\n",
        "#print(len(f_train_df))"
      ],
      "execution_count": null,
      "outputs": [
        {
          "output_type": "execute_result",
          "data": {
            "text/html": [
              "<div>\n",
              "<style scoped>\n",
              "    .dataframe tbody tr th:only-of-type {\n",
              "        vertical-align: middle;\n",
              "    }\n",
              "\n",
              "    .dataframe tbody tr th {\n",
              "        vertical-align: top;\n",
              "    }\n",
              "\n",
              "    .dataframe thead th {\n",
              "        text-align: right;\n",
              "    }\n",
              "</style>\n",
              "<table border=\"1\" class=\"dataframe\">\n",
              "  <thead>\n",
              "    <tr style=\"text-align: right;\">\n",
              "      <th></th>\n",
              "      <th>node_id</th>\n",
              "      <th>text</th>\n",
              "      <th>text_pre</th>\n",
              "      <th>new_text</th>\n",
              "      <th>class</th>\n",
              "      <th>source_node</th>\n",
              "      <th>dest_node</th>\n",
              "    </tr>\n",
              "  </thead>\n",
              "  <tbody>\n",
              "    <tr>\n",
              "      <th>0</th>\n",
              "      <td>38902949</td>\n",
              "      <td>Economic Shocks, Safety Nets, and Fiscal Const...</td>\n",
              "      <td>[shock, safety, net, constraint, protection]</td>\n",
              "      <td>shock safety net constraint protection</td>\n",
              "      <td>0</td>\n",
              "      <td>38902949</td>\n",
              "      <td>38998399</td>\n",
              "    </tr>\n",
              "    <tr>\n",
              "      <th>1</th>\n",
              "      <td>33450563</td>\n",
              "      <td>Reform, Growth, and Poverty in Vietnam</td>\n",
              "      <td>[reform, growth, poverty]</td>\n",
              "      <td>reform growth poverty</td>\n",
              "      <td>0</td>\n",
              "      <td>33450563</td>\n",
              "      <td>26547200</td>\n",
              "    </tr>\n",
              "    <tr>\n",
              "      <th>2</th>\n",
              "      <td>57470294</td>\n",
              "      <td>Households and Economic Growth in Latin Americ...</td>\n",
              "      <td>[household, growth]</td>\n",
              "      <td>household growth</td>\n",
              "      <td>0</td>\n",
              "      <td>57470294</td>\n",
              "      <td>20968604</td>\n",
              "    </tr>\n",
              "    <tr>\n",
              "      <th>3</th>\n",
              "      <td>54791317</td>\n",
              "      <td>World Economic Forum EDITORS</td>\n",
              "      <td>[editor]</td>\n",
              "      <td>editor</td>\n",
              "      <td>0</td>\n",
              "      <td>54791317</td>\n",
              "      <td>9564967</td>\n",
              "    </tr>\n",
              "    <tr>\n",
              "      <th>4</th>\n",
              "      <td>54791317</td>\n",
              "      <td>World Economic Forum EDITORS</td>\n",
              "      <td>[editor]</td>\n",
              "      <td>editor</td>\n",
              "      <td>0</td>\n",
              "      <td>54791317</td>\n",
              "      <td>14589786</td>\n",
              "    </tr>\n",
              "  </tbody>\n",
              "</table>\n",
              "</div>"
            ],
            "text/plain": [
              "    node_id  ... dest_node\n",
              "0  38902949  ...  38998399\n",
              "1  33450563  ...  26547200\n",
              "2  57470294  ...  20968604\n",
              "3  54791317  ...   9564967\n",
              "4  54791317  ...  14589786\n",
              "\n",
              "[5 rows x 7 columns]"
            ]
          },
          "metadata": {
            "tags": []
          },
          "execution_count": 70
        }
      ]
    },
    {
      "cell_type": "markdown",
      "metadata": {
        "id": "WNRCbSU2Dioo"
      },
      "source": [
        "### After the  dataframe is filtered with only nodes or papers that have valid information , we now extract node features from Tf-idf which gives relative features about important key words associated with respect to a node or a paper in this case"
      ]
    },
    {
      "cell_type": "code",
      "metadata": {
        "id": "Q9j9Z1gDBw-P"
      },
      "source": [
        "from sklearn.feature_extraction.text import TfidfVectorizer   # get node features from tfidf vectorizer\r\n",
        "tf_idf = TfidfVectorizer(max_features=10)\r\n",
        "node_features = tf_idf.fit_transform(f_train_df['new_text'])   # fit and transsform t get tf-idf values as node features\r\n",
        "x = torch.tensor(node_features.todense(),dtype = torch.float32)    # convert the sparse matrix to dense in order to conver the matrix to a pytorch tensor\r\n",
        "y_labels = f_train_df['class']\r\n",
        "y = torch.tensor(y_labels, dtype=torch.long)             # convert all dataframe array objects to torch tensors\r\n",
        "edge_indx = []\r\n",
        "src = f_train_df['source_node']                        \r\n",
        "dst = f_train_df['dest_node']\r\n",
        "edge_indx.append(src)\r\n",
        "edge_indx.append(dst)\r\n",
        "edge_indx = torch.tensor(edge_indx,dtype=torch.long)\r\n"
      ],
      "execution_count": null,
      "outputs": []
    },
    {
      "cell_type": "code",
      "metadata": {
        "colab": {
          "base_uri": "https://localhost:8080/"
        },
        "id": "7J-mK78UpzGC",
        "outputId": "bb02c10b-b665-4a1f-93f9-121c0d26e16c"
      },
      "source": [
        "#len(edge_index_train)  # list of two lists \r\n",
        "print(x) \r\n",
        "print(x.shape)\r\n",
        "print(y.shape)\r\n",
        "print(edge_indx.shape)\r\n",
        "  "
      ],
      "execution_count": null,
      "outputs": [
        {
          "output_type": "stream",
          "text": [
            "tensor([[0., 0., 0.,  ..., 0., 0., 0.],\n",
            "        [0., 0., 0.,  ..., 0., 0., 0.],\n",
            "        [0., 0., 0.,  ..., 0., 0., 0.],\n",
            "        ...,\n",
            "        [0., 0., 0.,  ..., 0., 0., 0.],\n",
            "        [0., 0., 0.,  ..., 0., 0., 0.],\n",
            "        [0., 0., 0.,  ..., 0., 0., 0.]])\n",
            "torch.Size([28891, 10])\n",
            "torch.Size([28891])\n",
            "torch.Size([2, 28891])\n"
          ],
          "name": "stdout"
        }
      ]
    },
    {
      "cell_type": "code",
      "metadata": {
        "colab": {
          "base_uri": "https://localhost:8080/"
        },
        "id": "F2sdOzGNSsGq",
        "outputId": "d093f90b-1c7a-41cb-dafe-85e2d08f10d6"
      },
      "source": [
        "data.num_nodes"
      ],
      "execution_count": null,
      "outputs": [
        {
          "output_type": "execute_result",
          "data": {
            "text/plain": [
              "28891"
            ]
          },
          "metadata": {
            "tags": []
          },
          "execution_count": 93
        }
      ]
    },
    {
      "cell_type": "code",
      "metadata": {
        "id": "GdNBPWG6RNDx"
      },
      "source": [
        "data = Data(x=x, edge_index=edge_indx,y=y)\r\n",
        "\r\n",
        "\r\n",
        "\r\n",
        "#--------------------------------------------\r\n",
        "## test mask and training mask vectors by pytorch  to be masked for training and prediction\r\n",
        "data.train_mask = torch.zeros(data.num_nodes, dtype=torch.uint8)\r\n",
        "data.train_mask[:int(0.8 * data.num_nodes)] = 1 #train only on the 80% nodes\r\n",
        "data.test_mask = torch.zeros(data.num_nodes, dtype=torch.uint8) #test on 20 % nodes \r\n",
        "data.test_mask[- int(0.2 * data.num_nodes):] = 1\r\n"
      ],
      "execution_count": null,
      "outputs": []
    },
    {
      "cell_type": "code",
      "metadata": {
        "id": "21aUOQhXwkpW"
      },
      "source": [
        "import torch\r\n",
        "import torch.nn.functional as F\r\n",
        "from torch_geometric.nn import GCNConv\r\n",
        "\r\n",
        "class gcn(torch.nn.Module):\r\n",
        "    def __init__(self):\r\n",
        "        super(gcn, self).__init__()\r\n",
        "        self.conv1 = GCNConv(28891, 16 )\r\n",
        "        self.conv2 = GCNConv(16, 16)\r\n",
        "        self.l1 = nn.Linear(16,5)\r\n",
        "\r\n",
        "    def forward(self, data):\r\n",
        "        x, edge_index = data.x, data.edge_index\r\n",
        "\r\n",
        "        x = self.conv1(x, edge_index)\r\n",
        "        x = F.relu(x)\r\n",
        "        x = F.dropout(x, training=self.training)\r\n",
        "        x = self.conv2(x, edge_index)\r\n",
        "        x = F.relu(x)\r\n",
        "        x = F.dropout(x, training=self.training)\r\n",
        "        return F.softmax(self.f1(x), dim=1)"
      ],
      "execution_count": null,
      "outputs": []
    },
    {
      "cell_type": "code",
      "metadata": {
        "id": "ZP3AhUzY97h9",
        "colab": {
          "base_uri": "https://localhost:8080/",
          "height": 389
        },
        "outputId": "b58d210f-db69-4ad2-c0a7-1ab6b148c39a"
      },
      "source": [
        "# Define model parametres and initialise the gcn class\r\n",
        "model = gcn()\r\n",
        "optimizer = torch.optim.Adam(model.parameters(), lr=0.01, weight_decay=5e-4)\r\n",
        "loss_func = nn.CrossEntropyLoss()\r\n",
        "# Define a function for training -----------------------------------------\r\n",
        "def train():\r\n",
        "    model.train()\r\n",
        "    optimizer.zero_grad()\r\n",
        "    out = model(data)\r\n",
        "    loss = loss_func(out[data.train_mask], data.y[data.train_mask])\r\n",
        "    loss.backward()        \r\n",
        "    optimizer.step()\r\n",
        "    return loss\r\n",
        "\r\n",
        "# eval and testing ----------------------------------------------------\r\n",
        "\r\n",
        "def test():\r\n",
        "    mode.eval()\r\n",
        "    out = model(data.x , data.edge_index)\r\n",
        "    # choose highest prob value and corresponding class is the predicted\r\n",
        "    pred = out.argmax(dim = 1 )\r\n",
        "    # check against test mask \r\n",
        "    test_true = pred[data.test_mask] == data.y[data.test]\r\n",
        "    # accuracy based on ratio of correct predictions to actual true values\r\n",
        "    test_acr = int(test_correct.sum())/ int(data.test_mask.sum())\r\n",
        "    return test_acr\r\n",
        "\r\n",
        "\r\n",
        "all_loss = []\r\n",
        "no_of_epochs = 50\r\n",
        "for each in range(no_of_epochs):\r\n",
        "    loss = train()\r\n",
        "    all_loss.append(loss)\r\n",
        "    print(f'EPOCH:{each:02d},LOSS:{loss:.4f}' )"
      ],
      "execution_count": null,
      "outputs": [
        {
          "output_type": "error",
          "ename": "IndexError",
          "evalue": "ignored",
          "traceback": [
            "\u001b[0;31m---------------------------------------------------------------------------\u001b[0m",
            "\u001b[0;31mIndexError\u001b[0m                                Traceback (most recent call last)",
            "\u001b[0;32m<ipython-input-110-74af3b3cc586>\u001b[0m in \u001b[0;36m<module>\u001b[0;34m()\u001b[0m\n\u001b[1;32m     30\u001b[0m \u001b[0mno_of_epochs\u001b[0m \u001b[0;34m=\u001b[0m \u001b[0;36m50\u001b[0m\u001b[0;34m\u001b[0m\u001b[0;34m\u001b[0m\u001b[0m\n\u001b[1;32m     31\u001b[0m \u001b[0;32mfor\u001b[0m \u001b[0meach\u001b[0m \u001b[0;32min\u001b[0m \u001b[0mrange\u001b[0m\u001b[0;34m(\u001b[0m\u001b[0mno_of_epochs\u001b[0m\u001b[0;34m)\u001b[0m\u001b[0;34m:\u001b[0m\u001b[0;34m\u001b[0m\u001b[0;34m\u001b[0m\u001b[0m\n\u001b[0;32m---> 32\u001b[0;31m     \u001b[0mloss\u001b[0m \u001b[0;34m=\u001b[0m \u001b[0mtrain\u001b[0m\u001b[0;34m(\u001b[0m\u001b[0;34m)\u001b[0m\u001b[0;34m\u001b[0m\u001b[0;34m\u001b[0m\u001b[0m\n\u001b[0m\u001b[1;32m     33\u001b[0m     \u001b[0mall_loss\u001b[0m\u001b[0;34m.\u001b[0m\u001b[0mappend\u001b[0m\u001b[0;34m(\u001b[0m\u001b[0mloss\u001b[0m\u001b[0;34m)\u001b[0m\u001b[0;34m\u001b[0m\u001b[0;34m\u001b[0m\u001b[0m\n\u001b[1;32m     34\u001b[0m     \u001b[0mprint\u001b[0m\u001b[0;34m(\u001b[0m\u001b[0;34mf'EPOCH:{each:02d},LOSS:{loss:.4f}'\u001b[0m \u001b[0;34m)\u001b[0m\u001b[0;34m\u001b[0m\u001b[0;34m\u001b[0m\u001b[0m\n",
            "\u001b[0;32m<ipython-input-110-74af3b3cc586>\u001b[0m in \u001b[0;36mtrain\u001b[0;34m()\u001b[0m\n\u001b[1;32m      7\u001b[0m     \u001b[0mmodel\u001b[0m\u001b[0;34m.\u001b[0m\u001b[0mtrain\u001b[0m\u001b[0;34m(\u001b[0m\u001b[0;34m)\u001b[0m\u001b[0;34m\u001b[0m\u001b[0;34m\u001b[0m\u001b[0m\n\u001b[1;32m      8\u001b[0m     \u001b[0moptimizer\u001b[0m\u001b[0;34m.\u001b[0m\u001b[0mzero_grad\u001b[0m\u001b[0;34m(\u001b[0m\u001b[0;34m)\u001b[0m\u001b[0;34m\u001b[0m\u001b[0;34m\u001b[0m\u001b[0m\n\u001b[0;32m----> 9\u001b[0;31m     \u001b[0mout\u001b[0m \u001b[0;34m=\u001b[0m \u001b[0mmodel\u001b[0m\u001b[0;34m(\u001b[0m\u001b[0mdata\u001b[0m\u001b[0;34m)\u001b[0m\u001b[0;34m\u001b[0m\u001b[0;34m\u001b[0m\u001b[0m\n\u001b[0m\u001b[1;32m     10\u001b[0m     \u001b[0mloss\u001b[0m \u001b[0;34m=\u001b[0m \u001b[0mloss_func\u001b[0m\u001b[0;34m(\u001b[0m\u001b[0mout\u001b[0m\u001b[0;34m[\u001b[0m\u001b[0mdata\u001b[0m\u001b[0;34m.\u001b[0m\u001b[0mtrain_mask\u001b[0m\u001b[0;34m]\u001b[0m\u001b[0;34m,\u001b[0m \u001b[0mdata\u001b[0m\u001b[0;34m.\u001b[0m\u001b[0my\u001b[0m\u001b[0;34m[\u001b[0m\u001b[0mdata\u001b[0m\u001b[0;34m.\u001b[0m\u001b[0mtrain_mask\u001b[0m\u001b[0;34m]\u001b[0m\u001b[0;34m)\u001b[0m\u001b[0;34m\u001b[0m\u001b[0;34m\u001b[0m\u001b[0m\n\u001b[1;32m     11\u001b[0m     \u001b[0mloss\u001b[0m\u001b[0;34m.\u001b[0m\u001b[0mbackward\u001b[0m\u001b[0;34m(\u001b[0m\u001b[0;34m)\u001b[0m\u001b[0;34m\u001b[0m\u001b[0;34m\u001b[0m\u001b[0m\n",
            "\u001b[0;32m/usr/local/lib/python3.6/dist-packages/torch/nn/modules/module.py\u001b[0m in \u001b[0;36m_call_impl\u001b[0;34m(self, *input, **kwargs)\u001b[0m\n\u001b[1;32m    725\u001b[0m             \u001b[0mresult\u001b[0m \u001b[0;34m=\u001b[0m \u001b[0mself\u001b[0m\u001b[0;34m.\u001b[0m\u001b[0m_slow_forward\u001b[0m\u001b[0;34m(\u001b[0m\u001b[0;34m*\u001b[0m\u001b[0minput\u001b[0m\u001b[0;34m,\u001b[0m \u001b[0;34m**\u001b[0m\u001b[0mkwargs\u001b[0m\u001b[0;34m)\u001b[0m\u001b[0;34m\u001b[0m\u001b[0;34m\u001b[0m\u001b[0m\n\u001b[1;32m    726\u001b[0m         \u001b[0;32melse\u001b[0m\u001b[0;34m:\u001b[0m\u001b[0;34m\u001b[0m\u001b[0;34m\u001b[0m\u001b[0m\n\u001b[0;32m--> 727\u001b[0;31m             \u001b[0mresult\u001b[0m \u001b[0;34m=\u001b[0m \u001b[0mself\u001b[0m\u001b[0;34m.\u001b[0m\u001b[0mforward\u001b[0m\u001b[0;34m(\u001b[0m\u001b[0;34m*\u001b[0m\u001b[0minput\u001b[0m\u001b[0;34m,\u001b[0m \u001b[0;34m**\u001b[0m\u001b[0mkwargs\u001b[0m\u001b[0;34m)\u001b[0m\u001b[0;34m\u001b[0m\u001b[0;34m\u001b[0m\u001b[0m\n\u001b[0m\u001b[1;32m    728\u001b[0m         for hook in itertools.chain(\n\u001b[1;32m    729\u001b[0m                 \u001b[0m_global_forward_hooks\u001b[0m\u001b[0;34m.\u001b[0m\u001b[0mvalues\u001b[0m\u001b[0;34m(\u001b[0m\u001b[0;34m)\u001b[0m\u001b[0;34m,\u001b[0m\u001b[0;34m\u001b[0m\u001b[0;34m\u001b[0m\u001b[0m\n",
            "\u001b[0;32m<ipython-input-107-379abf63da1d>\u001b[0m in \u001b[0;36mforward\u001b[0;34m(self, data)\u001b[0m\n\u001b[1;32m     13\u001b[0m         \u001b[0mx\u001b[0m\u001b[0;34m,\u001b[0m \u001b[0medge_index\u001b[0m \u001b[0;34m=\u001b[0m \u001b[0mdata\u001b[0m\u001b[0;34m.\u001b[0m\u001b[0mx\u001b[0m\u001b[0;34m,\u001b[0m \u001b[0mdata\u001b[0m\u001b[0;34m.\u001b[0m\u001b[0medge_index\u001b[0m\u001b[0;34m\u001b[0m\u001b[0;34m\u001b[0m\u001b[0m\n\u001b[1;32m     14\u001b[0m \u001b[0;34m\u001b[0m\u001b[0m\n\u001b[0;32m---> 15\u001b[0;31m         \u001b[0mx\u001b[0m \u001b[0;34m=\u001b[0m \u001b[0mself\u001b[0m\u001b[0;34m.\u001b[0m\u001b[0mconv1\u001b[0m\u001b[0;34m(\u001b[0m\u001b[0mx\u001b[0m\u001b[0;34m,\u001b[0m \u001b[0medge_index\u001b[0m\u001b[0;34m)\u001b[0m\u001b[0;34m\u001b[0m\u001b[0;34m\u001b[0m\u001b[0m\n\u001b[0m\u001b[1;32m     16\u001b[0m         \u001b[0mx\u001b[0m \u001b[0;34m=\u001b[0m \u001b[0mF\u001b[0m\u001b[0;34m.\u001b[0m\u001b[0mrelu\u001b[0m\u001b[0;34m(\u001b[0m\u001b[0mx\u001b[0m\u001b[0;34m)\u001b[0m\u001b[0;34m\u001b[0m\u001b[0;34m\u001b[0m\u001b[0m\n\u001b[1;32m     17\u001b[0m         \u001b[0mx\u001b[0m \u001b[0;34m=\u001b[0m \u001b[0mF\u001b[0m\u001b[0;34m.\u001b[0m\u001b[0mdropout\u001b[0m\u001b[0;34m(\u001b[0m\u001b[0mx\u001b[0m\u001b[0;34m,\u001b[0m \u001b[0mtraining\u001b[0m\u001b[0;34m=\u001b[0m\u001b[0mself\u001b[0m\u001b[0;34m.\u001b[0m\u001b[0mtraining\u001b[0m\u001b[0;34m)\u001b[0m\u001b[0;34m\u001b[0m\u001b[0;34m\u001b[0m\u001b[0m\n",
            "\u001b[0;32m/usr/local/lib/python3.6/dist-packages/torch/nn/modules/module.py\u001b[0m in \u001b[0;36m_call_impl\u001b[0;34m(self, *input, **kwargs)\u001b[0m\n\u001b[1;32m    725\u001b[0m             \u001b[0mresult\u001b[0m \u001b[0;34m=\u001b[0m \u001b[0mself\u001b[0m\u001b[0;34m.\u001b[0m\u001b[0m_slow_forward\u001b[0m\u001b[0;34m(\u001b[0m\u001b[0;34m*\u001b[0m\u001b[0minput\u001b[0m\u001b[0;34m,\u001b[0m \u001b[0;34m**\u001b[0m\u001b[0mkwargs\u001b[0m\u001b[0;34m)\u001b[0m\u001b[0;34m\u001b[0m\u001b[0;34m\u001b[0m\u001b[0m\n\u001b[1;32m    726\u001b[0m         \u001b[0;32melse\u001b[0m\u001b[0;34m:\u001b[0m\u001b[0;34m\u001b[0m\u001b[0;34m\u001b[0m\u001b[0m\n\u001b[0;32m--> 727\u001b[0;31m             \u001b[0mresult\u001b[0m \u001b[0;34m=\u001b[0m \u001b[0mself\u001b[0m\u001b[0;34m.\u001b[0m\u001b[0mforward\u001b[0m\u001b[0;34m(\u001b[0m\u001b[0;34m*\u001b[0m\u001b[0minput\u001b[0m\u001b[0;34m,\u001b[0m \u001b[0;34m**\u001b[0m\u001b[0mkwargs\u001b[0m\u001b[0;34m)\u001b[0m\u001b[0;34m\u001b[0m\u001b[0;34m\u001b[0m\u001b[0m\n\u001b[0m\u001b[1;32m    728\u001b[0m         for hook in itertools.chain(\n\u001b[1;32m    729\u001b[0m                 \u001b[0m_global_forward_hooks\u001b[0m\u001b[0;34m.\u001b[0m\u001b[0mvalues\u001b[0m\u001b[0;34m(\u001b[0m\u001b[0;34m)\u001b[0m\u001b[0;34m,\u001b[0m\u001b[0;34m\u001b[0m\u001b[0;34m\u001b[0m\u001b[0m\n",
            "\u001b[0;32m/usr/local/lib/python3.6/dist-packages/torch_geometric/nn/conv/gcn_conv.py\u001b[0m in \u001b[0;36mforward\u001b[0;34m(self, x, edge_index, edge_weight)\u001b[0m\n\u001b[1;32m    159\u001b[0m                     edge_index, edge_weight = gcn_norm(  # yapf: disable\n\u001b[1;32m    160\u001b[0m                         \u001b[0medge_index\u001b[0m\u001b[0;34m,\u001b[0m \u001b[0medge_weight\u001b[0m\u001b[0;34m,\u001b[0m \u001b[0mx\u001b[0m\u001b[0;34m.\u001b[0m\u001b[0msize\u001b[0m\u001b[0;34m(\u001b[0m\u001b[0mself\u001b[0m\u001b[0;34m.\u001b[0m\u001b[0mnode_dim\u001b[0m\u001b[0;34m)\u001b[0m\u001b[0;34m,\u001b[0m\u001b[0;34m\u001b[0m\u001b[0;34m\u001b[0m\u001b[0m\n\u001b[0;32m--> 161\u001b[0;31m                         self.improved, self.add_self_loops, dtype=x.dtype)\n\u001b[0m\u001b[1;32m    162\u001b[0m                     \u001b[0;32mif\u001b[0m \u001b[0mself\u001b[0m\u001b[0;34m.\u001b[0m\u001b[0mcached\u001b[0m\u001b[0;34m:\u001b[0m\u001b[0;34m\u001b[0m\u001b[0;34m\u001b[0m\u001b[0m\n\u001b[1;32m    163\u001b[0m                         \u001b[0mself\u001b[0m\u001b[0;34m.\u001b[0m\u001b[0m_cached_edge_index\u001b[0m \u001b[0;34m=\u001b[0m \u001b[0;34m(\u001b[0m\u001b[0medge_index\u001b[0m\u001b[0;34m,\u001b[0m \u001b[0medge_weight\u001b[0m\u001b[0;34m)\u001b[0m\u001b[0;34m\u001b[0m\u001b[0;34m\u001b[0m\u001b[0m\n",
            "\u001b[0;32m/usr/local/lib/python3.6/dist-packages/torch_geometric/nn/conv/gcn_conv.py\u001b[0m in \u001b[0;36mgcn_norm\u001b[0;34m(edge_index, edge_weight, num_nodes, improved, add_self_loops, dtype)\u001b[0m\n\u001b[1;32m     55\u001b[0m         \u001b[0;32mif\u001b[0m \u001b[0madd_self_loops\u001b[0m\u001b[0;34m:\u001b[0m\u001b[0;34m\u001b[0m\u001b[0;34m\u001b[0m\u001b[0m\n\u001b[1;32m     56\u001b[0m             edge_index, tmp_edge_weight = add_remaining_self_loops(\n\u001b[0;32m---> 57\u001b[0;31m                 edge_index, edge_weight, fill_value, num_nodes)\n\u001b[0m\u001b[1;32m     58\u001b[0m             \u001b[0;32massert\u001b[0m \u001b[0mtmp_edge_weight\u001b[0m \u001b[0;32mis\u001b[0m \u001b[0;32mnot\u001b[0m \u001b[0;32mNone\u001b[0m\u001b[0;34m\u001b[0m\u001b[0;34m\u001b[0m\u001b[0m\n\u001b[1;32m     59\u001b[0m             \u001b[0medge_weight\u001b[0m \u001b[0;34m=\u001b[0m \u001b[0mtmp_edge_weight\u001b[0m\u001b[0;34m\u001b[0m\u001b[0;34m\u001b[0m\u001b[0m\n",
            "\u001b[0;32m/usr/local/lib/python3.6/dist-packages/torch_geometric/utils/loop.py\u001b[0m in \u001b[0;36madd_remaining_self_loops\u001b[0;34m(edge_index, edge_weight, fill_value, num_nodes)\u001b[0m\n\u001b[1;32m    132\u001b[0m         \u001b[0mremaining_edge_weight\u001b[0m \u001b[0;34m=\u001b[0m \u001b[0medge_weight\u001b[0m\u001b[0;34m[\u001b[0m\u001b[0minv_mask\u001b[0m\u001b[0;34m]\u001b[0m\u001b[0;34m\u001b[0m\u001b[0;34m\u001b[0m\u001b[0m\n\u001b[1;32m    133\u001b[0m         \u001b[0;32mif\u001b[0m \u001b[0mremaining_edge_weight\u001b[0m\u001b[0;34m.\u001b[0m\u001b[0mnumel\u001b[0m\u001b[0;34m(\u001b[0m\u001b[0;34m)\u001b[0m \u001b[0;34m>\u001b[0m \u001b[0;36m0\u001b[0m\u001b[0;34m:\u001b[0m\u001b[0;34m\u001b[0m\u001b[0;34m\u001b[0m\u001b[0m\n\u001b[0;32m--> 134\u001b[0;31m             \u001b[0mloop_weight\u001b[0m\u001b[0;34m[\u001b[0m\u001b[0mrow\u001b[0m\u001b[0;34m[\u001b[0m\u001b[0minv_mask\u001b[0m\u001b[0;34m]\u001b[0m\u001b[0;34m]\u001b[0m \u001b[0;34m=\u001b[0m \u001b[0mremaining_edge_weight\u001b[0m\u001b[0;34m\u001b[0m\u001b[0;34m\u001b[0m\u001b[0m\n\u001b[0m\u001b[1;32m    135\u001b[0m         \u001b[0medge_weight\u001b[0m \u001b[0;34m=\u001b[0m \u001b[0mtorch\u001b[0m\u001b[0;34m.\u001b[0m\u001b[0mcat\u001b[0m\u001b[0;34m(\u001b[0m\u001b[0;34m[\u001b[0m\u001b[0medge_weight\u001b[0m\u001b[0;34m[\u001b[0m\u001b[0mmask\u001b[0m\u001b[0;34m]\u001b[0m\u001b[0;34m,\u001b[0m \u001b[0mloop_weight\u001b[0m\u001b[0;34m]\u001b[0m\u001b[0;34m,\u001b[0m \u001b[0mdim\u001b[0m\u001b[0;34m=\u001b[0m\u001b[0;36m0\u001b[0m\u001b[0;34m)\u001b[0m\u001b[0;34m\u001b[0m\u001b[0;34m\u001b[0m\u001b[0m\n\u001b[1;32m    136\u001b[0m \u001b[0;34m\u001b[0m\u001b[0m\n",
            "\u001b[0;31mIndexError\u001b[0m: index 41277365 is out of bounds for dimension 0 with size 28891"
          ]
        }
      ]
    }
  ]
}