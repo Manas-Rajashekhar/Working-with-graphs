{
  "nbformat": 4,
  "nbformat_minor": 0,
  "metadata": {
    "kernelspec": {
      "display_name": "Python 3",
      "language": "python",
      "name": "python3"
    },
    "language_info": {
      "codemirror_mode": {
        "name": "ipython",
        "version": 3
      },
      "file_extension": ".py",
      "mimetype": "text/x-python",
      "name": "python",
      "nbconvert_exporter": "python",
      "pygments_lexer": "ipython3",
      "version": "3.7.6"
    },
    "colab": {
      "name": "node classification using machine learning.ipynb",
      "provenance": []
    }
  },
  "cells": [
    {
      "cell_type": "markdown",
      "metadata": {
        "id": "LGOrpltrHrrg"
      },
      "source": [
        "### Semi- Super Vised Node classification using traditional machine learning algorithms\n",
        "\n",
        "\n",
        "\n",
        "\n"
      ]
    },
    {
      "cell_type": "markdown",
      "metadata": {
        "id": "o-SyOtNnHrsL"
      },
      "source": [
        ""
      ]
    },
    {
      "cell_type": "code",
      "metadata": {
        "id": "N3YqBDkxHrsM"
      },
      "source": [
        "#!pip install dgl\n",
        "#!pip install node2vec\n",
        "\n",
        "import time\n",
        "\n",
        "import numpy as np                         # load all neccesaary libraries \n",
        "import matplotlib.pyplot as plt\n",
        "import pandas as pd\n",
        "                                                \n",
        "import scipy as sp\n",
        "import scipy.sparse.linalg as linalg\n",
        "import scipy.cluster.hierarchy as hr\n",
        "from scipy.spatial.distance import pdist, squareform\n",
        "\n",
        "\n",
        "import sklearn.metrics as metrics\n",
        "import sklearn.utils as utils\n",
        "import sklearn.linear_model as linear_model\n",
        "import sklearn.svm as svm\n",
        "import sklearn.cluster as cluster\n",
        "from sklearn.ensemble import AdaBoostClassifier\n",
        "from sklearn.neighbors import KNeighborsClassifier\n",
        "from sklearn.decomposition import TruncatedSVD\n",
        "from sklearn.preprocessing import StandardScaler\n",
        "\n",
        "\n",
        "import networkx as nx\n",
        "from node2vec import Node2Vec\n",
        "\n",
        "import seaborn as sns\n",
        "from dgl.nn.pytorch import GraphConv\n",
        "import torch.nn as nn\n",
        "import torch.nn.functional as F"
      ],
      "execution_count": null,
      "outputs": []
    },
    {
      "cell_type": "markdown",
      "metadata": {
        "id": "m5SbDZrTHrsN"
      },
      "source": [
        "Read the graph data or adjacency list from file and form a basic networkx graph"
      ]
    },
    {
      "cell_type": "code",
      "metadata": {
        "id": "VoNlYyrBHrsQ"
      },
      "source": [
        "G = nx.read_adjlist('adjedges.txt', create_using = nx.DiGraph(), nodetype = int)\n",
        "        ## create graph from edge list\n",
        "#G.nodes()\n",
        "#G.edges()              # no of nodes\n",
        "G.number_of_nodes()"
      ],
      "execution_count": null,
      "outputs": []
    },
    {
      "cell_type": "code",
      "metadata": {
        "id": "jwpzB6sFHrsR",
        "outputId": "546a76c8-340e-407e-d267-3ed8a88e4925"
      },
      "source": [
        "#G.nodes()\n",
        "#G.edges()              # no of nodes\n",
        "G.number_of_nodes()"
      ],
      "execution_count": null,
      "outputs": [
        {
          "output_type": "execute_result",
          "data": {
            "text/plain": [
              "36928"
            ]
          },
          "metadata": {
            "tags": []
          },
          "execution_count": 97
        }
      ]
    },
    {
      "cell_type": "markdown",
      "metadata": {
        "id": "qgFYNxdVHrsS"
      },
      "source": [
        "#### Node Emebeddings using node2vec \n",
        "By samplig startegy nodes are emebedded from high dimension to low dimension vectors"
      ]
    },
    {
      "cell_type": "code",
      "metadata": {
        "id": "Mf_4TLVwHrsT",
        "outputId": "8cb33d61-4d15-4856-bed6-cb83b35db5b5"
      },
      "source": [
        "#pre-compute the probabilities and generate walks :\n",
        "node2vec = Node2Vec(G, dimensions=64, walk_length=20, num_walks=200, workers=4)\n",
        "#embed the nodes\n",
        "model = node2vec.fit(window=10, min_count=1, batch_words=4)\n"
      ],
      "execution_count": null,
      "outputs": [
        {
          "output_type": "stream",
          "text": [
            "Computing transition probabilities: 100%|██████████| 36928/36928 [00:01<00:00, 23271.54it/s]\n"
          ],
          "name": "stderr"
        }
      ]
    },
    {
      "cell_type": "code",
      "metadata": {
        "id": "NW-WPKR0HrsU",
        "outputId": "f69c53bb-4d0c-4644-c227-f1c40d970cfe"
      },
      "source": [
        "#model.wv.get_vector('12828558')               # get inidividual node feature"
      ],
      "execution_count": null,
      "outputs": [
        {
          "output_type": "execute_result",
          "data": {
            "text/plain": [
              "array([-4.83293133e-03,  3.32037499e-03, -5.13896067e-03,  6.01090537e-03,\n",
              "       -5.84459282e-04, -2.91788671e-03, -3.00790160e-03, -5.93654346e-03,\n",
              "       -4.02862858e-03,  5.56175970e-03, -5.90341398e-03, -5.54963108e-03,\n",
              "       -5.59177203e-03, -4.70674504e-03,  3.53438267e-03,  7.02380156e-03,\n",
              "       -4.72784694e-03,  6.11006806e-04,  5.34979627e-03,  7.75020989e-03,\n",
              "       -3.38701555e-03, -6.27190201e-03,  6.41502964e-04,  6.55236514e-03,\n",
              "        1.72545388e-03,  1.86560873e-03, -7.07889965e-04, -2.49871030e-03,\n",
              "       -5.55223692e-03, -6.08281884e-03, -4.32439987e-03, -3.76389083e-03,\n",
              "        5.27886162e-03, -5.34010760e-04, -3.77670210e-03, -2.63359328e-03,\n",
              "        7.72494168e-05, -4.12104093e-03, -4.06824891e-03,  5.26920985e-03,\n",
              "        1.05634375e-04,  5.99916512e-03,  2.34934990e-03,  7.48800952e-03,\n",
              "        2.01709289e-03,  3.70375987e-04,  5.61880786e-03,  4.20704298e-03,\n",
              "       -5.74026443e-03, -2.48439028e-03, -2.69574055e-04,  2.89472146e-03,\n",
              "       -3.05547705e-03,  2.23001419e-03,  5.29145310e-03, -1.00513385e-03,\n",
              "       -6.37376041e-04,  2.48202821e-03, -8.98035534e-04,  5.07013733e-03,\n",
              "        5.13561256e-03, -3.52875236e-03, -6.10863278e-03, -4.66729235e-03],\n",
              "      dtype=float32)"
            ]
          },
          "metadata": {
            "tags": []
          },
          "execution_count": 20
        }
      ]
    },
    {
      "cell_type": "markdown",
      "metadata": {
        "id": "o6OweW2THrsV"
      },
      "source": [
        "#### Loading training data\n",
        "Now we load training data where a list of nodes along with their class label is given"
      ]
    },
    {
      "cell_type": "code",
      "metadata": {
        "id": "fkoPPcJMHrsV"
      },
      "source": [
        "data_train = pd.read_csv('labels.txt', sep=\" \", header=None)     # create training data with column names\n",
        "data_train.columns=[\"node_id\",\"class\"]                           "
      ],
      "execution_count": null,
      "outputs": []
    },
    {
      "cell_type": "code",
      "metadata": {
        "id": "EPzCdhFbHrsW",
        "outputId": "ce86c4c8-83cb-40ba-f194-1f20b84cc313"
      },
      "source": [
        "data_train"
      ],
      "execution_count": null,
      "outputs": [
        {
          "output_type": "execute_result",
          "data": {
            "text/html": [
              "<div>\n",
              "<style scoped>\n",
              "    .dataframe tbody tr th:only-of-type {\n",
              "        vertical-align: middle;\n",
              "    }\n",
              "\n",
              "    .dataframe tbody tr th {\n",
              "        vertical-align: top;\n",
              "    }\n",
              "\n",
              "    .dataframe thead th {\n",
              "        text-align: right;\n",
              "    }\n",
              "</style>\n",
              "<table border=\"1\" class=\"dataframe\">\n",
              "  <thead>\n",
              "    <tr style=\"text-align: right;\">\n",
              "      <th></th>\n",
              "      <th>node_id</th>\n",
              "      <th>class</th>\n",
              "    </tr>\n",
              "  </thead>\n",
              "  <tbody>\n",
              "    <tr>\n",
              "      <th>0</th>\n",
              "      <td>12828558</td>\n",
              "      <td>0</td>\n",
              "    </tr>\n",
              "    <tr>\n",
              "      <th>1</th>\n",
              "      <td>66779408</td>\n",
              "      <td>0</td>\n",
              "    </tr>\n",
              "    <tr>\n",
              "      <th>2</th>\n",
              "      <td>38902949</td>\n",
              "      <td>0</td>\n",
              "    </tr>\n",
              "    <tr>\n",
              "      <th>3</th>\n",
              "      <td>33450563</td>\n",
              "      <td>0</td>\n",
              "    </tr>\n",
              "    <tr>\n",
              "      <th>4</th>\n",
              "      <td>57470294</td>\n",
              "      <td>0</td>\n",
              "    </tr>\n",
              "    <tr>\n",
              "      <th>...</th>\n",
              "      <td>...</td>\n",
              "      <td>...</td>\n",
              "    </tr>\n",
              "    <tr>\n",
              "      <th>18715</th>\n",
              "      <td>39790331</td>\n",
              "      <td>4</td>\n",
              "    </tr>\n",
              "    <tr>\n",
              "      <th>18716</th>\n",
              "      <td>47870669</td>\n",
              "      <td>4</td>\n",
              "    </tr>\n",
              "    <tr>\n",
              "      <th>18717</th>\n",
              "      <td>28485685</td>\n",
              "      <td>4</td>\n",
              "    </tr>\n",
              "    <tr>\n",
              "      <th>18718</th>\n",
              "      <td>48611755</td>\n",
              "      <td>4</td>\n",
              "    </tr>\n",
              "    <tr>\n",
              "      <th>18719</th>\n",
              "      <td>24384084</td>\n",
              "      <td>4</td>\n",
              "    </tr>\n",
              "  </tbody>\n",
              "</table>\n",
              "<p>18720 rows × 2 columns</p>\n",
              "</div>"
            ],
            "text/plain": [
              "        node_id  class\n",
              "0      12828558      0\n",
              "1      66779408      0\n",
              "2      38902949      0\n",
              "3      33450563      0\n",
              "4      57470294      0\n",
              "...         ...    ...\n",
              "18715  39790331      4\n",
              "18716  47870669      4\n",
              "18717  28485685      4\n",
              "18718  48611755      4\n",
              "18719  24384084      4\n",
              "\n",
              "[18720 rows x 2 columns]"
            ]
          },
          "metadata": {
            "tags": []
          },
          "execution_count": 99
        }
      ]
    },
    {
      "cell_type": "markdown",
      "metadata": {
        "id": "n1Bb6Q8VHrsX"
      },
      "source": [
        "#### Now we add a column of node embeddings to this dataframe along side each node_id and these are node features . We do so by applying fucntion row wise"
      ]
    },
    {
      "cell_type": "code",
      "metadata": {
        "id": "03yyDbf8HrsY"
      },
      "source": [
        "data_train['node_embeddings'] = data_train.apply(lambda row: model.wv.get_vector(str(row.node_id)) , axis = 1)"
      ],
      "execution_count": null,
      "outputs": []
    },
    {
      "cell_type": "markdown",
      "metadata": {
        "id": "hsu7DQ6qHrsZ"
      },
      "source": [
        "###### We know use node embeddings of nodes as Xtrain  and labels for respective nodes as Ytrain"
      ]
    },
    {
      "cell_type": "code",
      "metadata": {
        "scrolled": true,
        "id": "In9lE_-DHrsZ",
        "outputId": "7a203fe7-3c98-4a72-ea79-2fc95a611532"
      },
      "source": [
        "Xtrain = data_train['node_embeddings'].values                   # get x train and ytrain values where \n",
        "Ytrain = data_train['class'].values\n",
        "#Xtrain"
      ],
      "execution_count": null,
      "outputs": [
        {
          "output_type": "execute_result",
          "data": {
            "text/plain": [
              "array([array([-4.83293133e-03,  3.32037499e-03, -5.13896067e-03,  6.01090537e-03,\n",
              "       -5.84459282e-04, -2.91788671e-03, -3.00790160e-03, -5.93654346e-03,\n",
              "       -4.02862858e-03,  5.56175970e-03, -5.90341398e-03, -5.54963108e-03,\n",
              "       -5.59177203e-03, -4.70674504e-03,  3.53438267e-03,  7.02380156e-03,\n",
              "       -4.72784694e-03,  6.11006806e-04,  5.34979627e-03,  7.75020989e-03,\n",
              "       -3.38701555e-03, -6.27190201e-03,  6.41502964e-04,  6.55236514e-03,\n",
              "        1.72545388e-03,  1.86560873e-03, -7.07889965e-04, -2.49871030e-03,\n",
              "       -5.55223692e-03, -6.08281884e-03, -4.32439987e-03, -3.76389083e-03,\n",
              "        5.27886162e-03, -5.34010760e-04, -3.77670210e-03, -2.63359328e-03,\n",
              "        7.72494168e-05, -4.12104093e-03, -4.06824891e-03,  5.26920985e-03,\n",
              "        1.05634375e-04,  5.99916512e-03,  2.34934990e-03,  7.48800952e-03,\n",
              "        2.01709289e-03,  3.70375987e-04,  5.61880786e-03,  4.20704298e-03,\n",
              "       -5.74026443e-03, -2.48439028e-03, -2.69574055e-04,  2.89472146e-03,\n",
              "       -3.05547705e-03,  2.23001419e-03,  5.29145310e-03, -1.00513385e-03,\n",
              "       -6.37376041e-04,  2.48202821e-03, -8.98035534e-04,  5.07013733e-03,\n",
              "        5.13561256e-03, -3.52875236e-03, -6.10863278e-03, -4.66729235e-03],\n",
              "      dtype=float32),\n",
              "       array([ 3.9573074e-03, -4.2665885e-03, -8.6310203e-05,  5.1868344e-03,\n",
              "       -4.9889982e-03,  2.8062845e-03, -5.6349230e-04, -4.4671227e-03,\n",
              "       -7.8948977e-04, -4.2549074e-03,  7.5712596e-04,  2.9717176e-03,\n",
              "       -3.1665659e-05, -6.9534467e-03, -5.7168757e-03, -3.9764065e-03,\n",
              "       -2.1526720e-03, -6.5675159e-03, -3.7292761e-03,  2.3734651e-03,\n",
              "       -4.2776205e-03, -7.6219108e-04, -1.0568295e-03, -5.5253906e-03,\n",
              "        3.4380381e-03,  5.9832484e-03, -1.8825831e-03, -4.2829025e-03,\n",
              "       -1.6146098e-03, -5.2548884e-03,  1.5366260e-03, -5.4274402e-03,\n",
              "        1.1979452e-03,  4.5814542e-03, -4.4820295e-03, -1.4891822e-03,\n",
              "        4.1890657e-03,  3.1734521e-03,  6.5850740e-04, -2.5392405e-03,\n",
              "        8.2949357e-04, -6.1598760e-03, -4.5904107e-03, -1.5286061e-03,\n",
              "       -4.3618684e-03, -5.3072507e-03, -7.2412128e-03,  4.3991576e-03,\n",
              "       -7.5464314e-03,  4.9715145e-03, -3.3774101e-03, -4.3462710e-03,\n",
              "        4.0014605e-03, -2.9620053e-03,  3.7752509e-03,  4.7015883e-03,\n",
              "        5.3006421e-05,  7.7383607e-03,  7.7295178e-03, -3.7510248e-03,\n",
              "       -5.8128480e-03,  4.8229392e-03,  3.7885404e-03,  3.4362930e-03],\n",
              "      dtype=float32),\n",
              "       array([-2.4052707e-03, -6.7063919e-03,  1.9253135e-03,  7.8100124e-03,\n",
              "        2.1832054e-04,  7.3494813e-03, -1.1890150e-03,  4.6469863e-03,\n",
              "        1.9053181e-03, -5.6235627e-03,  2.9043923e-03,  7.7438643e-03,\n",
              "        7.3492513e-03, -5.1056505e-03,  2.7480619e-03,  4.3714617e-06,\n",
              "       -2.0239695e-03,  1.0054891e-03, -2.3926999e-03, -8.0184813e-04,\n",
              "       -6.7638364e-03,  1.8907490e-03,  4.0909476e-03, -5.5620065e-03,\n",
              "       -1.4779152e-03, -4.9783578e-03, -1.3148638e-03,  1.0126653e-03,\n",
              "       -7.8103845e-03, -2.0968597e-03,  2.1339499e-04,  2.8757288e-03,\n",
              "       -1.8233486e-03, -1.1475532e-03, -2.6639933e-03, -1.7294039e-03,\n",
              "        8.6244522e-04, -2.8138466e-03, -2.6467254e-03, -1.2403283e-03,\n",
              "        7.7935318e-03, -1.4780640e-03,  4.4601415e-03, -6.6329264e-03,\n",
              "        5.1036193e-03,  5.8139334e-03,  9.1943913e-04, -4.9967738e-03,\n",
              "       -1.6004058e-03, -3.2904930e-03, -3.7800765e-04,  1.4271950e-03,\n",
              "        2.9495500e-03,  4.3963888e-04, -3.9586229e-03, -7.1905648e-05,\n",
              "       -6.4799679e-03, -6.6160585e-04,  1.0197285e-03,  1.4796595e-03,\n",
              "        6.6189072e-03, -6.3782539e-03,  3.9251861e-03,  1.5379847e-03],\n",
              "      dtype=float32),\n",
              "       ...,\n",
              "       array([-0.0015487 , -0.00769992, -0.00703735, -0.00284477,  0.00272089,\n",
              "        0.00315309,  0.00637374,  0.00273169, -0.00252832,  0.00734939,\n",
              "       -0.00648195, -0.00077119, -0.00179086, -0.00395764, -0.00321835,\n",
              "        0.00443525, -0.00076888, -0.00677011, -0.00212771,  0.00149624,\n",
              "       -0.00321335, -0.00156921, -0.00214413, -0.00675193, -0.00403974,\n",
              "       -0.00489362, -0.00650958, -0.00346601,  0.00334093,  0.00474567,\n",
              "        0.00680794, -0.00436536, -0.00654447,  0.00751675, -0.00491265,\n",
              "       -0.00311155, -0.00560147,  0.00733468, -0.00223142,  0.00592154,\n",
              "        0.00539311,  0.00355341,  0.00775975, -0.00445348, -0.00455944,\n",
              "       -0.00690229,  0.0066482 , -0.00018628, -0.0012001 ,  0.00334999,\n",
              "        0.00038128, -0.00511586, -0.00323661,  0.00716909,  0.00185591,\n",
              "       -0.00100542,  0.00485952,  0.00259831, -0.00620101, -0.00526321,\n",
              "        0.00344039,  0.00018058, -0.00567162, -0.00660548], dtype=float32),\n",
              "       array([ 5.4362197e-03, -7.0878733e-03,  1.0688868e-03,  8.6876500e-04,\n",
              "       -5.1047998e-03, -1.4195843e-03, -2.3042760e-03, -3.8654322e-03,\n",
              "       -4.5230975e-03, -6.4438679e-03, -3.0725659e-03,  1.3318566e-03,\n",
              "       -3.9362628e-03,  7.1364478e-04,  3.6905818e-03,  2.2553904e-03,\n",
              "       -2.4551761e-03, -6.9818757e-03,  5.0728456e-03,  4.4593597e-03,\n",
              "        7.3812455e-03, -6.6875806e-04, -6.4129368e-03,  5.9188548e-03,\n",
              "       -6.7844294e-04,  3.0268952e-03, -5.8302879e-03,  4.2883009e-03,\n",
              "       -8.4428967e-04, -6.6152043e-03,  5.7067763e-04,  2.0025666e-03,\n",
              "        6.7687850e-04,  7.4392194e-03, -3.0715615e-05, -6.0437005e-03,\n",
              "        5.1073479e-03, -4.0821065e-03,  6.3990848e-03, -4.4493014e-03,\n",
              "        4.9550491e-03, -1.9957642e-03, -2.9342854e-03,  5.8681541e-03,\n",
              "       -5.4537151e-03, -5.4107467e-03,  2.0292841e-03, -7.3347511e-03,\n",
              "        5.2052839e-03, -4.6536801e-03, -5.4561468e-03,  3.6996803e-03,\n",
              "       -5.5844546e-03,  5.2471980e-03, -3.3589171e-03,  5.6570354e-03,\n",
              "        4.3806289e-03,  5.1394543e-03, -6.5476680e-03,  7.0459209e-03,\n",
              "        2.5903336e-03, -6.8040523e-03,  2.8208720e-03,  5.2836537e-04],\n",
              "      dtype=float32),\n",
              "       array([-1.2102863e-03,  2.0460431e-03, -3.4033048e-03,  4.1692322e-03,\n",
              "        5.5208658e-03, -6.6747605e-03,  6.1079860e-03,  7.2784163e-03,\n",
              "       -8.2400365e-05,  3.1248676e-03,  3.0818987e-03, -6.7653181e-03,\n",
              "        1.5034669e-03,  4.5996293e-04, -7.9505594e-04,  5.5252546e-03,\n",
              "        1.9645966e-03,  4.2073568e-03, -4.9108737e-03,  6.4967400e-03,\n",
              "        3.5330523e-03,  7.6825782e-03,  6.4340779e-03,  1.1063202e-03,\n",
              "        5.9981714e-03,  6.9345082e-03, -5.9735309e-03, -2.8982692e-04,\n",
              "       -6.1565139e-03, -7.2921097e-04, -4.3662097e-03,  7.0591820e-03,\n",
              "       -4.6813958e-03,  7.5228984e-04,  3.6654049e-03, -4.8184125e-03,\n",
              "        7.0655607e-03,  3.4499501e-03,  6.4094076e-03,  6.7762812e-03,\n",
              "       -5.2880635e-03,  3.7938901e-03,  4.0400787e-03,  3.4364234e-03,\n",
              "        4.5817411e-03, -4.2418265e-03, -1.4898572e-03,  2.0197502e-03,\n",
              "       -4.4075330e-03,  7.5111766e-03, -6.3169403e-03,  6.4470246e-03,\n",
              "        1.2638207e-04,  3.4869276e-03, -7.7207694e-03, -1.2324521e-03,\n",
              "       -1.3427422e-03, -6.5746955e-03, -1.8978022e-03, -5.6418129e-03,\n",
              "       -2.0637843e-03, -3.6982547e-03,  6.3079870e-03, -1.1854717e-03],\n",
              "      dtype=float32)], dtype=object)"
            ]
          },
          "metadata": {
            "tags": []
          },
          "execution_count": 102
        }
      ]
    },
    {
      "cell_type": "markdown",
      "metadata": {
        "id": "yaClWzyqHrsa"
      },
      "source": [
        "##### Xtrain values may not be of same length and hence padding is done to maintain same length for each node embedding  .\n",
        "We use keras function of pad sequences "
      ]
    },
    {
      "cell_type": "code",
      "metadata": {
        "id": "m86dO9ZhHrsb"
      },
      "source": [
        "from keras.preprocessing.sequence import pad_sequences\n",
        "Xtrain = pad_sequences(Xtrain)"
      ],
      "execution_count": null,
      "outputs": []
    },
    {
      "cell_type": "markdown",
      "metadata": {
        "id": "C3zZA9_CHrsc"
      },
      "source": [
        "###### Splitting into train and test sets using Skicit-learn"
      ]
    },
    {
      "cell_type": "code",
      "metadata": {
        "id": "7gP1qC3SHrsc"
      },
      "source": [
        "# Using Skicit-learn to split data into training and testing sets\n",
        "from sklearn.model_selection import train_test_split"
      ],
      "execution_count": null,
      "outputs": []
    },
    {
      "cell_type": "code",
      "metadata": {
        "id": "7MT9jj8rHrsd"
      },
      "source": [
        "train_features, test_features, train_labels, test_labels = train_test_split(Xtrain, Ytrain, test_size = 0.75, random_state = 42)"
      ],
      "execution_count": null,
      "outputs": []
    },
    {
      "cell_type": "markdown",
      "metadata": {
        "id": "OL1bmlMdHrse"
      },
      "source": [
        "##### Now data is trained for various models and accuracy is predicted "
      ]
    },
    {
      "cell_type": "markdown",
      "metadata": {
        "id": "eYM_rGngHrse"
      },
      "source": [
        "##### Multiclass classifications models\n",
        "###### 1)  Random forest"
      ]
    },
    {
      "cell_type": "code",
      "metadata": {
        "id": "P4TTXo0QHrsf",
        "outputId": "2682a802-9e14-4fc2-b849-d2f01f5f0755"
      },
      "source": [
        "# Import the model we are using                                   \n",
        "from sklearn.ensemble import RandomForestClassifier\n",
        "classifier_1= RandomForestClassifier(n_estimators = 1000,random_state = 42)\n",
        "classifier_1.fit(list(train_features),train_labels )"
      ],
      "execution_count": null,
      "outputs": [
        {
          "output_type": "execute_result",
          "data": {
            "text/plain": [
              "RandomForestClassifier(bootstrap=True, ccp_alpha=0.0, class_weight=None,\n",
              "                       criterion='gini', max_depth=None, max_features='auto',\n",
              "                       max_leaf_nodes=None, max_samples=None,\n",
              "                       min_impurity_decrease=0.0, min_impurity_split=None,\n",
              "                       min_samples_leaf=1, min_samples_split=2,\n",
              "                       min_weight_fraction_leaf=0.0, n_estimators=1000,\n",
              "                       n_jobs=None, oob_score=False, random_state=42, verbose=0,\n",
              "                       warm_start=False)"
            ]
          },
          "metadata": {
            "tags": []
          },
          "execution_count": 83
        }
      ]
    },
    {
      "cell_type": "code",
      "metadata": {
        "id": "HQ3-cybEHrsg",
        "outputId": "651a4a1c-0b02-46dd-f9e1-488fa04fa91a"
      },
      "source": [
        "# Predicting the Test set results\n",
        "y_pred = classifier_1.predict(test_features)\n",
        "from sklearn import metrics\n",
        "# Model Accuracy\n",
        "print(\"Accuracy:\",metrics.accuracy_score(test_labels, y_pred))"
      ],
      "execution_count": null,
      "outputs": [
        {
          "output_type": "stream",
          "text": [
            "Accuracy: 0.3782763532763533\n"
          ],
          "name": "stdout"
        }
      ]
    },
    {
      "cell_type": "markdown",
      "metadata": {
        "id": "LDVi93jkHrsh"
      },
      "source": [
        "###### 2)  Support vector classifier"
      ]
    },
    {
      "cell_type": "code",
      "metadata": {
        "id": "QRsANUNYHrsh"
      },
      "source": [
        "from sklearn.svm import SVC \n",
        "\n",
        "from sklearn.metrics import confusion_matrix"
      ],
      "execution_count": null,
      "outputs": []
    },
    {
      "cell_type": "code",
      "metadata": {
        "id": "9UJmqfLYHrsi",
        "outputId": "8f6db417-9ab8-47a9-bc39-3bde13888bef"
      },
      "source": [
        "svm_model_linear = SVC(kernel = 'linear', C = 1).fit(Xtrain, Ytrain) \n",
        "svm_predictions = svm_model_linear.predict(test_features)\n",
        "# model accuracy for X_test   \n",
        "accuracy = svm_model_linear.score(test_features, test_labels) \n",
        "  \n",
        "# creating a confusion matrix \n",
        "cm = confusion_matrix(test_labels, svm_predictions) \n",
        "accuracy"
      ],
      "execution_count": null,
      "outputs": [
        {
          "output_type": "execute_result",
          "data": {
            "text/plain": [
              "0.3764957264957265"
            ]
          },
          "metadata": {
            "tags": []
          },
          "execution_count": 112
        }
      ]
    },
    {
      "cell_type": "markdown",
      "metadata": {
        "id": "oJM9tK3pHrsj"
      },
      "source": [
        "###### 3)  Decision Tree Classifier"
      ]
    },
    {
      "cell_type": "code",
      "metadata": {
        "id": "X3sKuXPIHrsj"
      },
      "source": [
        "from sklearn.tree import DecisionTreeClassifier \n",
        "dtree_model = DecisionTreeClassifier(max_depth = 2).fit(Xtrain, Ytrain) \n",
        "dtree_predictions = dtree_model.predict(test_features)"
      ],
      "execution_count": null,
      "outputs": []
    },
    {
      "cell_type": "code",
      "metadata": {
        "id": "hcBVvkTqHrsk",
        "outputId": "8f9ace07-018d-45e1-c83f-29bece2beef9"
      },
      "source": [
        "# Model Accuracy\n",
        "print(\"Accuracy:\",metrics.accuracy_score(test_labels, dtree_predictions))"
      ],
      "execution_count": null,
      "outputs": [
        {
          "output_type": "stream",
          "text": [
            "Accuracy: 0.36217948717948717\n"
          ],
          "name": "stdout"
        }
      ]
    },
    {
      "cell_type": "markdown",
      "metadata": {
        "id": "SQ3XthtnHrsl"
      },
      "source": [
        "###### 2)  Naive Bayes classifier "
      ]
    },
    {
      "cell_type": "code",
      "metadata": {
        "id": "sp_fERoFHrsm",
        "outputId": "69a5b25a-8a80-4183-8717-b21ead5db89b"
      },
      "source": [
        "# training a Naive Bayes classifier \n",
        "from sklearn.naive_bayes import GaussianNB \n",
        "gnb = GaussianNB().fit(Xtrain, Ytrain) \n",
        "gnb_predictions = gnb.predict(test_features) \n",
        "  \n",
        "# accuracy on X_test \n",
        "accuracy = gnb.score(test_features, test_labels)\n",
        "print(accuracy)"
      ],
      "execution_count": null,
      "outputs": [
        {
          "output_type": "stream",
          "text": [
            "0.3492877492877493\n"
          ],
          "name": "stdout"
        }
      ]
    }
  ]
}